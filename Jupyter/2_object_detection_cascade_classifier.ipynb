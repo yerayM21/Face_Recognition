{
 "cells": [
  {
   "cell_type": "code",
   "execution_count": 1,
   "metadata": {},
   "outputs": [],
   "source": [
    "import numpy as np\n",
    "import cv2"
   ]
  },
  {
   "cell_type": "code",
   "execution_count": 2,
   "metadata": {},
   "outputs": [],
   "source": [
    "img = cv2.imread('../image/0021.jpg')\n",
    "\n",
    "cv2.imshow('image',img)\n",
    "cv2.waitKey(0)\n",
    "cv2.destroyAllWindows()"
   ]
  },
  {
   "cell_type": "code",
   "execution_count": 3,
   "metadata": {},
   "outputs": [],
   "source": [
    "#Load casacades classfiere - frontalface\n",
    "face_cascade = cv2.CascadeClassifier('../haarcascade/haarcascade_frontalface_default.xml')"
   ]
  },
  {
   "cell_type": "code",
   "execution_count": 4,
   "metadata": {},
   "outputs": [],
   "source": [
    "# apply cascade classfier to an imagen \n",
    "face,num_detection=face_cascade.detectMultiScale2(img,minNeighbors=8)"
   ]
  },
  {
   "cell_type": "code",
   "execution_count": 5,
   "metadata": {},
   "outputs": [
    {
     "name": "stdout",
     "output_type": "stream",
     "text": [
      "[[114  40 196 196]]\n"
     ]
    }
   ],
   "source": [
    "print(face)"
   ]
  },
  {
   "cell_type": "code",
   "execution_count": 6,
   "metadata": {},
   "outputs": [
    {
     "name": "stdout",
     "output_type": "stream",
     "text": [
      "[89]\n"
     ]
    }
   ],
   "source": [
    "print (num_detection)"
   ]
  },
  {
   "cell_type": "code",
   "execution_count": 7,
   "metadata": {},
   "outputs": [],
   "source": [
    "pt1 = (555,40)\n",
    "pt2 = (555+196,40+196)\n",
    "#draw the rectangle \n",
    "cv2.rectangle(img,pt1,pt2,(0,255,0))\n",
    "\n",
    "cv2.imshow('face detection',img)\n",
    "cv2.waitKey(0)\n",
    "cv2.destroyAllWindows()"
   ]
  },
  {
   "cell_type": "code",
   "execution_count": 8,
   "metadata": {},
   "outputs": [],
   "source": [
    "# draw the circle\n",
    "cx = 114+196//2\n",
    "cy = 40 +196//2\n",
    "r=196//2\n",
    "\n",
    "cv2.circle(img,(cx,cy),r,(0,255,255),2)\n",
    "cv2.imshow('fece dectection circle',img)\n",
    "cv2.waitKey(0)\n",
    "cv2.destroyAllWindows()"
   ]
  },
  {
   "cell_type": "markdown",
   "metadata": {},
   "source": [
    "# Multiples Faces"
   ]
  },
  {
   "cell_type": "code",
   "execution_count": 9,
   "metadata": {},
   "outputs": [],
   "source": [
    "img = cv2.imread('../image/friends.jpg')\n",
    "\n",
    "cv2.imshow('image',img)\n",
    "cv2.waitKey(0)\n",
    "cv2.destroyAllWindows()"
   ]
  },
  {
   "cell_type": "code",
   "execution_count": 10,
   "metadata": {},
   "outputs": [],
   "source": [
    "face_cascade = cv2.CascadeClassifier('../haarcascade/haarcascade_frontalface_default.xml')\n",
    "\n",
    "#step-1: apply casacade classifier to an image \n",
    "faces,num_detection = face_cascade.detectMultiScale2(img,minNeighbors=8)\n",
    "#step-2: run a loop\n",
    "for x,y,w,h in faces:\n",
    "    cv2.rectangle(img,(x,y),(x+w,y+h),(0,255,0))\n",
    "\n",
    "cv2.imshow('face detection',img)\n",
    "cv2.waitKey(0)\n",
    "cv2.destroyAllWindows()"
   ]
  },
  {
   "cell_type": "code",
   "execution_count": 11,
   "metadata": {},
   "outputs": [
    {
     "name": "stdout",
     "output_type": "stream",
     "text": [
      "[ 84  71 104]\n"
     ]
    }
   ],
   "source": [
    "print(num_detection)"
   ]
  },
  {
   "cell_type": "markdown",
   "metadata": {},
   "source": [
    "# Faces & Eyes Detection"
   ]
  },
  {
   "cell_type": "code",
   "execution_count": 12,
   "metadata": {},
   "outputs": [],
   "source": [
    "img = cv2.imread('../image/friends.jpg')\n",
    "\n",
    "cv2.imshow('image',img)\n",
    "cv2.waitKey(0)\n",
    "cv2.destroyAllWindows()"
   ]
  },
  {
   "cell_type": "code",
   "execution_count": 13,
   "metadata": {},
   "outputs": [],
   "source": [
    "face_cascade = cv2.CascadeClassifier('../haarcascade/haarcascade_frontalface_default.xml')\n",
    "eye_cascade = cv2.CascadeClassifier('../haarcascade/haarcascade_eye.xml')"
   ]
  },
  {
   "cell_type": "code",
   "execution_count": 14,
   "metadata": {},
   "outputs": [],
   "source": [
    "# step -1:Face Detection \n",
    "faces,num_detection = face_cascade.detectMultiScale2(img,minNeighbors=8)\n",
    "for x,y,w,h in faces:\n",
    "    cv2.rectangle(img,(x,y),(x+w,y+h),(0,255,0))\n",
    "    # step -2: eye detection\n",
    "    face_roi = img[y:y+h,x:x+h] # croping the image\n",
    "    # step -3: apply to cascasde classifier (eye)\n",
    "    eyes, num_detection_eyes = eye_cascade.detectMultiScale2(face_roi)\n",
    "    for ex,ey,ew,eh in eyes:\n",
    "        cx = x+ex+ew// 2 \n",
    "        cy = y+ey+eh//2\n",
    "        r = eh // 2 \n",
    "        cv2.circle(img,(cx,cy),r,(255,0,255),2)\n",
    "# stpe-3:\n",
    "cv2.imshow('face eye detection', img)\n",
    "cv2.waitKey(0)\n",
    "cv2.destroyAllWindows()\n",
    "        "
   ]
  },
  {
   "cell_type": "markdown",
   "metadata": {},
   "source": [
    "# Faces , Eyes, Smiles Detection"
   ]
  },
  {
   "cell_type": "code",
   "execution_count": 15,
   "metadata": {},
   "outputs": [],
   "source": [
    "img = cv2.imread('../image/friends.jpg')\n",
    "\n",
    "cv2.imshow('image',img)\n",
    "cv2.waitKey(0)\n",
    "cv2.destroyAllWindows()"
   ]
  },
  {
   "cell_type": "code",
   "execution_count": 16,
   "metadata": {},
   "outputs": [],
   "source": [
    "face_cascade = cv2.CascadeClassifier('../haarcascade/haarcascade_frontalface_default.xml')\n",
    "eye_cascade = cv2.CascadeClassifier('../haarcascade/haarcascade_eye.xml')\n",
    "smile_cascade = cv2.CascadeClassifier('../haarcascade/haarcascade_smile.xml')\n",
    "\n",
    "# step -1:Face Detection \n",
    "faces,num_detection = face_cascade.detectMultiScale2(img,minNeighbors=8)\n",
    "for x,y,w,h in faces:\n",
    "    face_roi = img[y:y+h,x:x+h].copy() # croping the image\n",
    "    cv2.rectangle(img,(x,y),(x+w,y+h),(0,255,0))\n",
    "    \n",
    "    # step -2: apply to cascasde classifier (eye)\n",
    "    eyes, num_detection_eyes = eye_cascade.detectMultiScale2(face_roi)\n",
    "    for ex,ey,ew,eh in eyes:\n",
    "        cx = x+ex+ew// 2 \n",
    "        cy = y+ey+eh//2\n",
    "        r = eh // 2 \n",
    "        cv2.circle(img,(cx,cy),r,(255,0,255),2)\n",
    "        \n",
    "    # step -3: smile detection \n",
    "    smiles, num_detection_smile = smile_cascade.detectMultiScale2(face_roi)\n",
    "    for sx,sy,sw,sh in smiles:\n",
    "        cv2.rectangle(img,(x+sx,y+sy),(x+sx+sw,y+sy+sh),(255,0,0),2)\n",
    "        \n",
    "# stpe-3:\n",
    "cv2.imshow('face eye detection', img)\n",
    "cv2.waitKey(0)\n",
    "cv2.destroyAllWindows()\n"
   ]
  }
 ],
 "metadata": {
  "kernelspec": {
   "display_name": "venv",
   "language": "python",
   "name": "python3"
  },
  "language_info": {
   "codemirror_mode": {
    "name": "ipython",
    "version": 3
   },
   "file_extension": ".py",
   "mimetype": "text/x-python",
   "name": "python",
   "nbconvert_exporter": "python",
   "pygments_lexer": "ipython3",
   "version": "3.11.9"
  }
 },
 "nbformat": 4,
 "nbformat_minor": 2
}
